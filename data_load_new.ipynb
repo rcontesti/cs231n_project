{
 "cells": [
  {
   "cell_type": "code",
   "execution_count": 6,
   "metadata": {},
   "outputs": [],
   "source": [
    "# Run this cell to import the packages you will need to unpack the dataset\n",
    "import pandas as pd\n",
    "import numpy as np\n",
    "from matplotlib import pyplot as plt\n",
    "import scipy\n",
    "from io import BytesIO\n",
    "from PIL import Image\n",
    "import random\n",
    "import pickle\n",
    "import os\n",
    "import zipfile\n",
    "import scipy.ndimage\n",
    "#from google.colab import files\n",
    "import tensorflow as tf\n",
    "from numpy import genfromtxt"
   ]
  },
  {
   "cell_type": "code",
   "execution_count": 7,
   "metadata": {},
   "outputs": [
    {
     "name": "stdout",
     "output_type": "stream",
     "text": [
      "Cloning into 'Week3_public'...\n",
      "remote: Enumerating objects: 119, done.\u001b[K\n",
      "remote: Total 119 (delta 0), reused 0 (delta 0), pack-reused 119\u001b[K\n",
      "Receiving objects: 100% (119/119), 699.59 MiB | 44.40 MiB/s, done.\n",
      "Resolving deltas: 100% (43/43), done.\n"
     ]
    }
   ],
   "source": [
    "! git clone https://github.com/BeaverWorksMedlytics/Week3_public.git  # Don't rerun these two lines!\n",
    "os.chdir('Week3_public/Challenge/Data')                               # Don't rerun these two lines!"
   ]
  },
  {
   "cell_type": "code",
   "execution_count": 17,
   "metadata": {},
   "outputs": [],
   "source": [
    "\n",
    "path_to_data=\"../project_data/\""
   ]
  },
  {
   "cell_type": "code",
   "execution_count": 16,
   "metadata": {},
   "outputs": [
    {
     "name": "stdout",
     "output_type": "stream",
     "text": [
      "train_complex_labels.shape (5000, 1)\n",
      "train_complex_labels.head\n",
      "     0\n",
      "0  0.0\n",
      "1  0.0\n",
      "2  0.0\n",
      "3  0.0\n",
      "4  0.0\n",
      "eval_complex_labels.shape (500, 1)\n",
      "eval_complex_labels.head()\n",
      "     0\n",
      "0  0.0\n",
      "1  0.0\n",
      "2  0.0\n",
      "3  0.0\n",
      "4  0.0\n"
     ]
    }
   ],
   "source": [
    "train_complex_labels = pd.read_csv(path_to_data+'train_complex_labels.csv', header = None)\n",
    "eval_complex_labels = pd.read_csv(path_to_data+'eval_complex_labels.csv', header = None)\n",
    "\n",
    "print(\"train_complex_labels.shape\",train_complex_labels.shape)\n",
    "print(\"train_complex_labels.head\")\n",
    "print(train_complex_labels.head())\n",
    "print(\"eval_complex_labels.shape\",eval_complex_labels.shape)\n",
    "print(\"eval_complex_labels.head()\")\n",
    "print(eval_complex_labels.head())"
   ]
  },
  {
   "cell_type": "code",
   "execution_count": 23,
   "metadata": {},
   "outputs": [],
   "source": [
    "zip_ref = zipfile.ZipFile(path_to_data+'Mamm_Images_Train.zip.zip', 'r')\n",
    "zip_ref.extractall(path_to_data)\n",
    "zip_ref.close()\n",
    "\n",
    "\n",
    "zip_ref = zipfile.ZipFile(path_to_data+'Mamm_Images_Eval_zip.zip', 'r')\n",
    "zip_ref.extractall(path_to_data)\n",
    "zip_ref.close()\n",
    "\n",
    "zip_ref = zipfile.ZipFile(path_to_data+'Mamm_Images_Test.zip.zip', 'r')\n",
    "zip_ref.extractall(path_to_data)\n",
    "zip_ref.close()"
   ]
  },
  {
   "cell_type": "code",
   "execution_count": 40,
   "metadata": {},
   "outputs": [
    {
     "name": "stdout",
     "output_type": "stream",
     "text": [
      "train_images_df\n",
      "                                              Images  Unique Index\n",
      "0  [[83, 82, 82, 82, 83, 85, 87, 88, 88, 88, 89, ...             0\n",
      "1  [[121, 123, 126, 128, 128, 127, 125, 123, 120,...             1\n",
      "2  [[151, 151, 151, 150, 150, 150, 149, 149, 154,...             2\n",
      "3  [[13, 13, 13, 13, 13, 13, 13, 13, 13, 13, 13, ...             3\n",
      "4  [[78, 78, 77, 77, 77, 78, 79, 79, 77, 78, 79, ...             4\n",
      "(5000, 2)\n",
      "eval_images_df\n",
      "                                              Images  Unique Index\n",
      "0  [[70, 68, 67, 68, 70, 70, 67, 64, 61, 61, 61, ...             0\n",
      "1  [[18, 18, 18, 18, 18, 18, 18, 18, 18, 19, 19, ...             1\n",
      "2  [[8, 8, 8, 8, 8, 8, 8, 8, 8, 8, 8, 9, 9, 10, 1...             2\n",
      "3  [[73, 73, 73, 74, 75, 76, 78, 78, 79, 78, 78, ...             3\n",
      "4  [[149, 143, 141, 145, 147, 146, 147, 150, 146,...             4\n",
      "(500, 2)\n",
      "test_images_df\n",
      "                                              Images  Unique Index\n",
      "0  [[107, 107, 108, 109, 109, 109, 108, 108, 107,...             0\n",
      "1  [[4, 4, 4, 4, 4, 4, 4, 4, 4, 4, 4, 4, 4, 4, 4,...             1\n",
      "2  [[18, 18, 18, 18, 18, 18, 18, 18, 17, 17, 17, ...             2\n",
      "3  [[106, 107, 110, 112, 114, 115, 116, 116, 118,...             3\n",
      "4  [[170, 171, 171, 170, 169, 168, 167, 166, 164,...             4\n",
      "(500, 2)\n",
      "Save to Pickles...\n",
      "Reload Data from Pickles...\n",
      "train_images_df\n",
      "                                              Images  Unique Index\n",
      "0  [[83, 82, 82, 82, 83, 85, 87, 88, 88, 88, 89, ...             0\n",
      "1  [[121, 123, 126, 128, 128, 127, 125, 123, 120,...             1\n",
      "2  [[151, 151, 151, 150, 150, 150, 149, 149, 154,...             2\n",
      "3  [[13, 13, 13, 13, 13, 13, 13, 13, 13, 13, 13, ...             3\n",
      "4  [[78, 78, 77, 77, 77, 78, 79, 79, 77, 78, 79, ...             4\n",
      "(5000, 2)\n",
      "eval_images_df\n",
      "                                              Images  Unique Index\n",
      "0  [[70, 68, 67, 68, 70, 70, 67, 64, 61, 61, 61, ...             0\n",
      "1  [[18, 18, 18, 18, 18, 18, 18, 18, 18, 19, 19, ...             1\n",
      "2  [[8, 8, 8, 8, 8, 8, 8, 8, 8, 8, 8, 9, 9, 10, 1...             2\n",
      "3  [[73, 73, 73, 74, 75, 76, 78, 78, 79, 78, 78, ...             3\n",
      "4  [[149, 143, 141, 145, 147, 146, 147, 150, 146,...             4\n",
      "(500, 2)\n",
      "test_images_df\n",
      "                                              Images  Unique Index\n",
      "0  [[107, 107, 108, 109, 109, 109, 108, 108, 107,...             0\n",
      "1  [[4, 4, 4, 4, 4, 4, 4, 4, 4, 4, 4, 4, 4, 4, 4,...             1\n",
      "2  [[18, 18, 18, 18, 18, 18, 18, 18, 17, 17, 17, ...             2\n",
      "3  [[106, 107, 110, 112, 114, 115, 116, 116, 118,...             3\n",
      "4  [[170, 171, 171, 170, 169, 168, 167, 166, 164,...             4\n",
      "(500, 2)\n"
     ]
    }
   ],
   "source": [
    "def create_pandas_df(folder, size):\n",
    "    list_of_nparrays=[]\n",
    "    for i in range(size):\n",
    "        im=plt.imread(path_to_data+folder+'image'+str(i)+'.jpg')\n",
    "        list_of_nparrays.append(im)\n",
    "    \n",
    "    df=pd.DataFrame([list_of_nparrays]).transpose()\n",
    "   \n",
    "    unique_index = pd.DataFrame(list(range(size)))\n",
    "\n",
    "    df = pd.concat([df, unique_index], axis = 1)\n",
    "\n",
    "    df.columns = ['Images', 'Unique Index']\n",
    "    \n",
    "    return df\n",
    "\n",
    "\n",
    "\n",
    "train_images_df=create_pandas_df(folder='Mamm_Images_Train/', size=5000)\n",
    "eval_images_df=create_pandas_df(folder='Mamm_Images_Eval/', size=500)\n",
    "test_images_df=create_pandas_df(folder='Mamm_Images_Test/', size=500)\n",
    "\n",
    "print(\"train_images_df\")\n",
    "print(train_images_df.head())\n",
    "print(train_images_df.shape)\n",
    "\n",
    "print(\"eval_images_df\")\n",
    "print(eval_images_df.head())\n",
    "print(eval_images_df.shape)\n",
    "\n",
    "print(\"test_images_df\")\n",
    "print(test_images_df.head())\n",
    "print(test_images_df.shape)\n",
    "\n",
    "#Save to Pickle\n",
    "print(\"Save to Pickles...\")\n",
    "train_images_df.to_pickle(path_to_data+'train_images_df') \n",
    "eval_images_df.to_pickle(path_to_data+'eval_images_df') \n",
    "test_images_df.to_pickle(path_to_data+'test_images_df') \n",
    "\n",
    "#Load Files from Pickle\n",
    "train_images_df=pd.read_pickle(path_to_data+'train_images_df')\n",
    "eval_images_df=pd.read_pickle(path_to_data+'eval_images_df')\n",
    "test_images_df=pd.read_pickle(path_to_data+'test_images_df')\n",
    "\n",
    "print(\"Reload Data from Pickles...\")\n",
    "\n",
    "print(\"train_images_df\")\n",
    "print(train_images_df.head())\n",
    "print(train_images_df.shape)\n",
    "\n",
    "print(\"eval_images_df\")\n",
    "print(eval_images_df.head())\n",
    "print(eval_images_df.shape)\n",
    "\n",
    "print(\"test_images_df\")\n",
    "print(test_images_df.head())\n",
    "print(test_images_df.shape)\n",
    "\n"
   ]
  },
  {
   "cell_type": "code",
   "execution_count": 3,
   "metadata": {},
   "outputs": [
    {
     "ename": "FileNotFoundError",
     "evalue": "[Errno 2] File b'train_simple_labels.csv' does not exist: b'train_simple_labels.csv'",
     "output_type": "error",
     "traceback": [
      "\u001b[0;31m---------------------------------------------------------------------------\u001b[0m",
      "\u001b[0;31mFileNotFoundError\u001b[0m                         Traceback (most recent call last)",
      "\u001b[0;32m<ipython-input-3-b6fbdc761dd8>\u001b[0m in \u001b[0;36m<module>\u001b[0;34m\u001b[0m\n\u001b[0;32m----> 1\u001b[0;31m \u001b[0mtrain_simple_labels\u001b[0m \u001b[0;34m=\u001b[0m \u001b[0mpd\u001b[0m\u001b[0;34m.\u001b[0m\u001b[0mread_csv\u001b[0m\u001b[0;34m(\u001b[0m\u001b[0;34m'train_simple_labels.csv'\u001b[0m\u001b[0;34m,\u001b[0m \u001b[0mheader\u001b[0m \u001b[0;34m=\u001b[0m \u001b[0;32mNone\u001b[0m\u001b[0;34m)\u001b[0m\u001b[0;34m\u001b[0m\u001b[0;34m\u001b[0m\u001b[0m\n\u001b[0m\u001b[1;32m      2\u001b[0m \u001b[0;34m\u001b[0m\u001b[0m\n\u001b[1;32m      3\u001b[0m \u001b[0;31m#train_simple_labels = pd.concat([train_simple_labels, eval_simple_labels], axis=0, ignore_index = True)\u001b[0m\u001b[0;34m\u001b[0m\u001b[0;34m\u001b[0m\u001b[0;34m\u001b[0m\u001b[0m\n\u001b[1;32m      4\u001b[0m \u001b[0;31m#train_complex_labels = pd.concat([train_complex_labels, eval_complex_labels], axis=0, ignore_index = True)\u001b[0m\u001b[0;34m\u001b[0m\u001b[0;34m\u001b[0m\u001b[0;34m\u001b[0m\u001b[0m\n\u001b[1;32m      5\u001b[0m \u001b[0;31m#Labels = pd.DataFrame(list(range(5500)))\u001b[0m\u001b[0;34m\u001b[0m\u001b[0;34m\u001b[0m\u001b[0;34m\u001b[0m\u001b[0m\n",
      "\u001b[0;32m/opt/anaconda3/lib/python3.7/site-packages/pandas/io/parsers.py\u001b[0m in \u001b[0;36mparser_f\u001b[0;34m(filepath_or_buffer, sep, delimiter, header, names, index_col, usecols, squeeze, prefix, mangle_dupe_cols, dtype, engine, converters, true_values, false_values, skipinitialspace, skiprows, skipfooter, nrows, na_values, keep_default_na, na_filter, verbose, skip_blank_lines, parse_dates, infer_datetime_format, keep_date_col, date_parser, dayfirst, iterator, chunksize, compression, thousands, decimal, lineterminator, quotechar, quoting, doublequote, escapechar, comment, encoding, dialect, tupleize_cols, error_bad_lines, warn_bad_lines, delim_whitespace, low_memory, memory_map, float_precision)\u001b[0m\n\u001b[1;32m    700\u001b[0m                     skip_blank_lines=skip_blank_lines)\n\u001b[1;32m    701\u001b[0m \u001b[0;34m\u001b[0m\u001b[0m\n\u001b[0;32m--> 702\u001b[0;31m         \u001b[0;32mreturn\u001b[0m \u001b[0m_read\u001b[0m\u001b[0;34m(\u001b[0m\u001b[0mfilepath_or_buffer\u001b[0m\u001b[0;34m,\u001b[0m \u001b[0mkwds\u001b[0m\u001b[0;34m)\u001b[0m\u001b[0;34m\u001b[0m\u001b[0;34m\u001b[0m\u001b[0m\n\u001b[0m\u001b[1;32m    703\u001b[0m \u001b[0;34m\u001b[0m\u001b[0m\n\u001b[1;32m    704\u001b[0m     \u001b[0mparser_f\u001b[0m\u001b[0;34m.\u001b[0m\u001b[0m__name__\u001b[0m \u001b[0;34m=\u001b[0m \u001b[0mname\u001b[0m\u001b[0;34m\u001b[0m\u001b[0;34m\u001b[0m\u001b[0m\n",
      "\u001b[0;32m/opt/anaconda3/lib/python3.7/site-packages/pandas/io/parsers.py\u001b[0m in \u001b[0;36m_read\u001b[0;34m(filepath_or_buffer, kwds)\u001b[0m\n\u001b[1;32m    427\u001b[0m \u001b[0;34m\u001b[0m\u001b[0m\n\u001b[1;32m    428\u001b[0m     \u001b[0;31m# Create the parser.\u001b[0m\u001b[0;34m\u001b[0m\u001b[0;34m\u001b[0m\u001b[0;34m\u001b[0m\u001b[0m\n\u001b[0;32m--> 429\u001b[0;31m     \u001b[0mparser\u001b[0m \u001b[0;34m=\u001b[0m \u001b[0mTextFileReader\u001b[0m\u001b[0;34m(\u001b[0m\u001b[0mfilepath_or_buffer\u001b[0m\u001b[0;34m,\u001b[0m \u001b[0;34m**\u001b[0m\u001b[0mkwds\u001b[0m\u001b[0;34m)\u001b[0m\u001b[0;34m\u001b[0m\u001b[0;34m\u001b[0m\u001b[0m\n\u001b[0m\u001b[1;32m    430\u001b[0m \u001b[0;34m\u001b[0m\u001b[0m\n\u001b[1;32m    431\u001b[0m     \u001b[0;32mif\u001b[0m \u001b[0mchunksize\u001b[0m \u001b[0;32mor\u001b[0m \u001b[0miterator\u001b[0m\u001b[0;34m:\u001b[0m\u001b[0;34m\u001b[0m\u001b[0;34m\u001b[0m\u001b[0m\n",
      "\u001b[0;32m/opt/anaconda3/lib/python3.7/site-packages/pandas/io/parsers.py\u001b[0m in \u001b[0;36m__init__\u001b[0;34m(self, f, engine, **kwds)\u001b[0m\n\u001b[1;32m    893\u001b[0m             \u001b[0mself\u001b[0m\u001b[0;34m.\u001b[0m\u001b[0moptions\u001b[0m\u001b[0;34m[\u001b[0m\u001b[0;34m'has_index_names'\u001b[0m\u001b[0;34m]\u001b[0m \u001b[0;34m=\u001b[0m \u001b[0mkwds\u001b[0m\u001b[0;34m[\u001b[0m\u001b[0;34m'has_index_names'\u001b[0m\u001b[0;34m]\u001b[0m\u001b[0;34m\u001b[0m\u001b[0;34m\u001b[0m\u001b[0m\n\u001b[1;32m    894\u001b[0m \u001b[0;34m\u001b[0m\u001b[0m\n\u001b[0;32m--> 895\u001b[0;31m         \u001b[0mself\u001b[0m\u001b[0;34m.\u001b[0m\u001b[0m_make_engine\u001b[0m\u001b[0;34m(\u001b[0m\u001b[0mself\u001b[0m\u001b[0;34m.\u001b[0m\u001b[0mengine\u001b[0m\u001b[0;34m)\u001b[0m\u001b[0;34m\u001b[0m\u001b[0;34m\u001b[0m\u001b[0m\n\u001b[0m\u001b[1;32m    896\u001b[0m \u001b[0;34m\u001b[0m\u001b[0m\n\u001b[1;32m    897\u001b[0m     \u001b[0;32mdef\u001b[0m \u001b[0mclose\u001b[0m\u001b[0;34m(\u001b[0m\u001b[0mself\u001b[0m\u001b[0;34m)\u001b[0m\u001b[0;34m:\u001b[0m\u001b[0;34m\u001b[0m\u001b[0;34m\u001b[0m\u001b[0m\n",
      "\u001b[0;32m/opt/anaconda3/lib/python3.7/site-packages/pandas/io/parsers.py\u001b[0m in \u001b[0;36m_make_engine\u001b[0;34m(self, engine)\u001b[0m\n\u001b[1;32m   1120\u001b[0m     \u001b[0;32mdef\u001b[0m \u001b[0m_make_engine\u001b[0m\u001b[0;34m(\u001b[0m\u001b[0mself\u001b[0m\u001b[0;34m,\u001b[0m \u001b[0mengine\u001b[0m\u001b[0;34m=\u001b[0m\u001b[0;34m'c'\u001b[0m\u001b[0;34m)\u001b[0m\u001b[0;34m:\u001b[0m\u001b[0;34m\u001b[0m\u001b[0;34m\u001b[0m\u001b[0m\n\u001b[1;32m   1121\u001b[0m         \u001b[0;32mif\u001b[0m \u001b[0mengine\u001b[0m \u001b[0;34m==\u001b[0m \u001b[0;34m'c'\u001b[0m\u001b[0;34m:\u001b[0m\u001b[0;34m\u001b[0m\u001b[0;34m\u001b[0m\u001b[0m\n\u001b[0;32m-> 1122\u001b[0;31m             \u001b[0mself\u001b[0m\u001b[0;34m.\u001b[0m\u001b[0m_engine\u001b[0m \u001b[0;34m=\u001b[0m \u001b[0mCParserWrapper\u001b[0m\u001b[0;34m(\u001b[0m\u001b[0mself\u001b[0m\u001b[0;34m.\u001b[0m\u001b[0mf\u001b[0m\u001b[0;34m,\u001b[0m \u001b[0;34m**\u001b[0m\u001b[0mself\u001b[0m\u001b[0;34m.\u001b[0m\u001b[0moptions\u001b[0m\u001b[0;34m)\u001b[0m\u001b[0;34m\u001b[0m\u001b[0;34m\u001b[0m\u001b[0m\n\u001b[0m\u001b[1;32m   1123\u001b[0m         \u001b[0;32melse\u001b[0m\u001b[0;34m:\u001b[0m\u001b[0;34m\u001b[0m\u001b[0;34m\u001b[0m\u001b[0m\n\u001b[1;32m   1124\u001b[0m             \u001b[0;32mif\u001b[0m \u001b[0mengine\u001b[0m \u001b[0;34m==\u001b[0m \u001b[0;34m'python'\u001b[0m\u001b[0;34m:\u001b[0m\u001b[0;34m\u001b[0m\u001b[0;34m\u001b[0m\u001b[0m\n",
      "\u001b[0;32m/opt/anaconda3/lib/python3.7/site-packages/pandas/io/parsers.py\u001b[0m in \u001b[0;36m__init__\u001b[0;34m(self, src, **kwds)\u001b[0m\n\u001b[1;32m   1851\u001b[0m         \u001b[0mkwds\u001b[0m\u001b[0;34m[\u001b[0m\u001b[0;34m'usecols'\u001b[0m\u001b[0;34m]\u001b[0m \u001b[0;34m=\u001b[0m \u001b[0mself\u001b[0m\u001b[0;34m.\u001b[0m\u001b[0musecols\u001b[0m\u001b[0;34m\u001b[0m\u001b[0;34m\u001b[0m\u001b[0m\n\u001b[1;32m   1852\u001b[0m \u001b[0;34m\u001b[0m\u001b[0m\n\u001b[0;32m-> 1853\u001b[0;31m         \u001b[0mself\u001b[0m\u001b[0;34m.\u001b[0m\u001b[0m_reader\u001b[0m \u001b[0;34m=\u001b[0m \u001b[0mparsers\u001b[0m\u001b[0;34m.\u001b[0m\u001b[0mTextReader\u001b[0m\u001b[0;34m(\u001b[0m\u001b[0msrc\u001b[0m\u001b[0;34m,\u001b[0m \u001b[0;34m**\u001b[0m\u001b[0mkwds\u001b[0m\u001b[0;34m)\u001b[0m\u001b[0;34m\u001b[0m\u001b[0;34m\u001b[0m\u001b[0m\n\u001b[0m\u001b[1;32m   1854\u001b[0m         \u001b[0mself\u001b[0m\u001b[0;34m.\u001b[0m\u001b[0munnamed_cols\u001b[0m \u001b[0;34m=\u001b[0m \u001b[0mself\u001b[0m\u001b[0;34m.\u001b[0m\u001b[0m_reader\u001b[0m\u001b[0;34m.\u001b[0m\u001b[0munnamed_cols\u001b[0m\u001b[0;34m\u001b[0m\u001b[0;34m\u001b[0m\u001b[0m\n\u001b[1;32m   1855\u001b[0m \u001b[0;34m\u001b[0m\u001b[0m\n",
      "\u001b[0;32mpandas/_libs/parsers.pyx\u001b[0m in \u001b[0;36mpandas._libs.parsers.TextReader.__cinit__\u001b[0;34m()\u001b[0m\n",
      "\u001b[0;32mpandas/_libs/parsers.pyx\u001b[0m in \u001b[0;36mpandas._libs.parsers.TextReader._setup_parser_source\u001b[0;34m()\u001b[0m\n",
      "\u001b[0;31mFileNotFoundError\u001b[0m: [Errno 2] File b'train_simple_labels.csv' does not exist: b'train_simple_labels.csv'"
     ]
    }
   ],
   "source": [
    "train_simple_labels = pd.read_csv('train_simple_labels.csv', header = None)\n",
    "\n",
    "#train_simple_labels = pd.concat([train_simple_labels, eval_simple_labels], axis=0, ignore_index = True)\n",
    "#train_complex_labels = pd.concat([train_complex_labels, eval_complex_labels], axis=0, ignore_index = True)\n",
    "#Labels = pd.DataFrame(list(range(5500)))\n",
    "#train_simple_labels = pd.concat([train_simple_labels, Labels], axis=1)\n",
    "#train_simple_labels.columns = ['Label', 'Unique_Index']\n",
    "#train_complex_labels = pd.concat([train_complex_labels, Labels], axis=1)\n",
    "#train_complex_labels.columns = ['Label', 'Unique_Index']\n",
    "\n",
    "zip_ref = zipfile.ZipFile('Mamm_Images_Train.zip.zip', 'r')\n",
    "zip_ref.extractall('Mamm_Images_Train')\n",
    "zip_ref.close()\n",
    "\n",
    "zip_ref = zipfile.ZipFile('Mamm_Images_Eval_zip.zip', 'r')\n",
    "zip_ref.extractall('Mamm_Images_Eval')\n",
    "zip_ref.close()\n",
    "\n",
    "#zip_ref = zipfile.ZipFile('Mamm_Images_Test.zip.zip', 'r')\n",
    "#zip_ref.extractall('Mamm_Images_Test')\n",
    "#zip_ref.close()  \n"
   ]
  },
  {
   "cell_type": "code",
   "execution_count": 8,
   "metadata": {},
   "outputs": [],
   "source": [
    "train_complex_labels = genfromtxt('train_complex_labels.csv', delimiter=',')\n",
    "eval_complex_labels=genfromtxt('eval_complex_labels.csv', delimiter=',')"
   ]
  },
  {
   "cell_type": "code",
   "execution_count": 9,
   "metadata": {},
   "outputs": [
    {
     "data": {
      "text/plain": [
       "numpy.ndarray"
      ]
     },
     "execution_count": 9,
     "metadata": {},
     "output_type": "execute_result"
    }
   ],
   "source": [
    "type(train_complex_labels)"
   ]
  },
  {
   "cell_type": "code",
   "execution_count": 20,
   "metadata": {},
   "outputs": [
    {
     "name": "stdout",
     "output_type": "stream",
     "text": [
      "/home/cs231n_project\r\n"
     ]
    }
   ],
   "source": [
    "!pwd"
   ]
  },
  {
   "cell_type": "code",
   "execution_count": 21,
   "metadata": {},
   "outputs": [
    {
     "name": "stdout",
     "output_type": "stream",
     "text": [
      "cv10_data.npy\t\t\ttraining10_2_13_count: 700.npz\r\n",
      "cv10_data.zip\t\t\ttraining10_2_14_count: 700.npz\r\n",
      "cv10_labels.npy\t\t\ttraining10_2_15_count: 677.npz\r\n",
      "ddsm-mammography.zip\t\ttraining10_2_1_count: 700.npz\r\n",
      "eval_complex_labels.csv\t\ttraining10_2_2_count: 700.npz\r\n",
      "eval_simple_labels.csv\t\ttraining10_2_3_count: 700.npz\r\n",
      "Mamm_Images_Eval_zip.zip\ttraining10_2_4_count: 700.npz\r\n",
      "Mamm_Images_Test.zip.zip\ttraining10_2_5_count: 700.npz\r\n",
      "Mamm_Images_Train.zip.zip\ttraining10_2_6_count: 700.npz\r\n",
      "test10_data.npy\t\t\ttraining10_2_7_count: 700.npz\r\n",
      "test10_data.zip\t\t\ttraining10_2_8_count: 700.npz\r\n",
      "test10_labels.npy\t\ttraining10_2_9_count: 700.npz\r\n",
      "train_complex_labels.csv\ttraining10_2_class_arr.npz\r\n",
      "training10_0_0_count: 700.npz\ttraining10_2.tfrecords\r\n",
      "training10_0_10_count: 700.npz\ttraining10_2.zip\r\n",
      "training10_0_11_count: 700.npz\ttraining10_3_0_count: 700.npz\r\n",
      "training10_0_12_count: 700.npz\ttraining10_3_10_count: 700.npz\r\n",
      "training10_0_13_count: 700.npz\ttraining10_3_11_count: 700.npz\r\n",
      "training10_0_14_count: 700.npz\ttraining10_3_12_count: 700.npz\r\n",
      "training10_0_15_count: 677.npz\ttraining10_3_13_count: 700.npz\r\n",
      "training10_0_1_count: 700.npz\ttraining10_3_14_count: 700.npz\r\n",
      "training10_0_2_count: 700.npz\ttraining10_3_15_count: 677.npz\r\n",
      "training10_0_3_count: 700.npz\ttraining10_3_1_count: 700.npz\r\n",
      "training10_0_4_count: 700.npz\ttraining10_3_2_count: 700.npz\r\n",
      "training10_0_5_count: 700.npz\ttraining10_3_3_count: 700.npz\r\n",
      "training10_0_6_count: 700.npz\ttraining10_3_4_count: 700.npz\r\n",
      "training10_0_7_count: 700.npz\ttraining10_3_5_count: 700.npz\r\n",
      "training10_0_8_count: 700.npz\ttraining10_3_6_count: 700.npz\r\n",
      "training10_0_9_count: 700.npz\ttraining10_3_7_count: 700.npz\r\n",
      "training10_0_class_arr.npz\ttraining10_3_8_count: 700.npz\r\n",
      "training10_0.tfrecords\t\ttraining10_3_9_count: 700.npz\r\n",
      "training10_0.zip\t\ttraining10_3_class_arr.npz\r\n",
      "training10_1_0_count: 700.npz\ttraining10_3.tfrecords\r\n",
      "training10_1_10_count: 700.npz\ttraining10_3.zip\r\n",
      "training10_1_11_count: 700.npz\ttraining10_4_0_count: 700.npz\r\n",
      "training10_1_12_count: 700.npz\ttraining10_4_10_count: 700.npz\r\n",
      "training10_1_13_count: 700.npz\ttraining10_4_11_count: 700.npz\r\n",
      "training10_1_14_count: 700.npz\ttraining10_4_12_count: 700.npz\r\n",
      "training10_1_15_count: 677.npz\ttraining10_4_13_count: 700.npz\r\n",
      "training10_1_1_count: 700.npz\ttraining10_4_14_count: 700.npz\r\n",
      "training10_1_2_count: 700.npz\ttraining10_4_15_count: 677.npz\r\n",
      "training10_1_3_count: 700.npz\ttraining10_4_1_count: 700.npz\r\n",
      "training10_1_4_count: 700.npz\ttraining10_4_2_count: 700.npz\r\n",
      "training10_1_5_count: 700.npz\ttraining10_4_3_count: 700.npz\r\n",
      "training10_1_6_count: 700.npz\ttraining10_4_4_count: 700.npz\r\n",
      "training10_1_7_count: 700.npz\ttraining10_4_5_count: 700.npz\r\n",
      "training10_1_8_count: 700.npz\ttraining10_4_6_count: 700.npz\r\n",
      "training10_1_9_count: 700.npz\ttraining10_4_7_count: 700.npz\r\n",
      "training10_1_class_arr.npz\ttraining10_4_8_count: 700.npz\r\n",
      "training10_1.tfrecords\t\ttraining10_4_9_count: 700.npz\r\n",
      "training10_1.zip\t\ttraining10_4_class_arr.npz\r\n",
      "training10_2_0_count: 700.npz\ttraining10_4.tfrecords\r\n",
      "training10_2_10_count: 700.npz\ttraining10_4.zip\r\n",
      "training10_2_11_count: 700.npz\ttrain_simple_labels.csv\r\n",
      "training10_2_12_count: 700.npz\r\n"
     ]
    }
   ],
   "source": [
    "!ls ../project_data"
   ]
  },
  {
   "cell_type": "code",
   "execution_count": null,
   "metadata": {},
   "outputs": [],
   "source": []
  }
 ],
 "metadata": {
  "kernelspec": {
   "display_name": "Python 3",
   "language": "python",
   "name": "python3"
  },
  "language_info": {
   "codemirror_mode": {
    "name": "ipython",
    "version": 3
   },
   "file_extension": ".py",
   "mimetype": "text/x-python",
   "name": "python",
   "nbconvert_exporter": "python",
   "pygments_lexer": "ipython3",
   "version": "3.7.3"
  }
 },
 "nbformat": 4,
 "nbformat_minor": 2
}
